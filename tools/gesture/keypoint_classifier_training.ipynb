{
 "cells": [
  {
   "cell_type": "code",
   "execution_count": 1,
   "metadata": {
    "id": "igMyGnjE9hEp"
   },
   "outputs": [],
   "source": [
    "import csv\n",
    "\n",
    "import numpy as np\n",
    "import pandas as pd\n",
    "import tensorflow as tf\n",
    "from sklearn.model_selection import train_test_split\n",
    "\n",
    "RANDOM_SEED = 42"
   ]
  },
  {
   "cell_type": "markdown",
   "metadata": {
    "id": "t2HDvhIu9hEr"
   },
   "source": [
    "# Specify each path"
   ]
  },
  {
   "cell_type": "code",
   "execution_count": 5,
   "metadata": {
    "id": "9NvZP2Zn9hEy"
   },
   "outputs": [],
   "source": [
    "# Specify data paths\n",
    "dataset = 'model/keypoint_classifier/keypoint.csv'\n",
    "model_save_path = 'model/keypoint_classifier/keypoint_classifier_new.hdf5'\n",
    "tflite_save_path = 'model/keypoint_classifier/keypoint_classifier_new.tflite'"
   ]
  },
  {
   "cell_type": "markdown",
   "metadata": {
    "id": "s5oMH7x19hEz"
   },
   "source": [
    "# Set number of classes"
   ]
  },
  {
   "cell_type": "code",
   "execution_count": 6,
   "metadata": {
    "id": "du4kodXL9hEz"
   },
   "outputs": [],
   "source": [
    "# Change training classes if necessary\n",
    "NUM_CLASSES = 9"
   ]
  },
  {
   "cell_type": "markdown",
   "metadata": {
    "id": "XjnL0uso9hEz"
   },
   "source": [
    "# Dataset reading"
   ]
  },
  {
   "cell_type": "code",
   "execution_count": 7,
   "metadata": {
    "id": "QT5ZqtEz9hE0"
   },
   "outputs": [],
   "source": [
    "X_dataset = np.loadtxt(dataset, delimiter=',', dtype='float32', usecols=list(range(1, (21 * 2) + 1)))"
   ]
  },
  {
   "cell_type": "code",
   "execution_count": 8,
   "metadata": {
    "id": "QmoKFsp49hE0"
   },
   "outputs": [],
   "source": [
    "y_dataset = np.loadtxt(dataset, delimiter=',', dtype='int32', usecols=(0))"
   ]
  },
  {
   "cell_type": "code",
   "execution_count": 9,
   "metadata": {
    "id": "xQU7JTZ_9hE0"
   },
   "outputs": [],
   "source": [
    "X_train, X_test, y_train, y_test = train_test_split(X_dataset, y_dataset, train_size=0.75, random_state=RANDOM_SEED)"
   ]
  },
  {
   "cell_type": "code",
   "execution_count": 10,
   "metadata": {
    "colab": {
     "base_uri": "https://localhost:8080/",
     "height": 279
    },
    "id": "xElG5FoPDQO9",
    "outputId": "2ef372ed-62e3-49c1-ad36-a5b5dc76701a"
   },
   "outputs": [
    {
     "name": "stdout",
     "output_type": "stream",
     "text": [
      "(array([0, 1, 2, 3, 4, 5, 6, 7, 8]), array([1595, 1663, 1510,  672,  164,  257,  139,  190,  797], dtype=int64))\n"
     ]
    },
    {
     "data": {
      "image/png": "[encoded data removed]",
      "text/plain": [
       "<Figure size 432x288 with 1 Axes>"
      ]
     },
     "metadata": {
      "needs_background": "light"
     },
     "output_type": "display_data"
    }
   ],
   "source": [
    "# Classes count\n",
    "counts = np.unique(y_dataset, return_counts=True)\n",
    "df = pd.DataFrame(counts)\n",
    "df.T.plot(kind=\"bar\", stacked=True)\n",
    "print(counts)"
   ]
  },
  {
   "cell_type": "markdown",
   "metadata": {
    "id": "mxK_lETT9hE0"
   },
   "source": [
    "# Model building"
   ]
  },
  {
   "cell_type": "code",
   "execution_count": 11,
   "metadata": {
    "id": "vHBmUf1t9hE1"
   },
   "outputs": [
    {
     "name": "stdout",
     "output_type": "stream",
     "text": [
      "WARNING:tensorflow:Please add `keras.layers.InputLayer` instead of `keras.Input` to Sequential model. `keras.Input` is intended to be used by Functional model.\n"
     ]
    }
   ],
   "source": [
    "model = tf.keras.models.Sequential([\n",
    "    tf.keras.layers.Input((21 * 2, )),\n",
    "    tf.keras.layers.Dropout(0.0),\n",
    "    tf.keras.layers.Dense(32, activation='relu'),\n",
    "    tf.keras.layers.Dropout(0.0),\n",
    "    tf.keras.layers.Dense(32, activation='relu'),\n",
    "    tf.keras.layers.Dropout(0.0),\n",
    "    tf.keras.layers.Dense(16, activation='relu'),\n",
    "    tf.keras.layers.Dense(NUM_CLASSES, activation='softmax')\n",
    "])"
   ]
  },
  {
   "cell_type": "code",
   "execution_count": 12,
   "metadata": {
    "colab": {
     "base_uri": "https://localhost:8080/"
    },
    "id": "ypqky9tc9hE1",
    "outputId": "c42f3550-ceee-45b8-d40d-d99fd84a2616"
   },
   "outputs": [
    {
     "name": "stdout",
     "output_type": "stream",
     "text": [
      "Model: \"sequential\"\n",
      "_________________________________________________________________\n",
      "Layer (type)                 Output Shape              Param #   \n",
      "=================================================================\n",
      "dropout (Dropout)            (None, 42)                0         \n",
      "_________________________________________________________________\n",
      "dense (Dense)                (None, 32)                1376      \n",
      "_________________________________________________________________\n",
      "dropout_1 (Dropout)          (None, 32)                0         \n",
      "_________________________________________________________________\n",
      "dense_1 (Dense)              (None, 32)                1056      \n",
      "_________________________________________________________________\n",
      "dropout_2 (Dropout)          (None, 32)                0         \n",
      "_________________________________________________________________\n",
      "dense_2 (Dense)              (None, 16)                528       \n",
      "_________________________________________________________________\n",
      "dense_3 (Dense)              (None, 9)                 153       \n",
      "=================================================================\n",
      "Total params: 3,113\n",
      "Trainable params: 3,113\n",
      "Non-trainable params: 0\n",
      "_________________________________________________________________\n"
     ]
    }
   ],
   "source": [
    "model.summary()  # tf.keras.utils.plot_model(model, show_shapes=True)"
   ]
  },
  {
   "cell_type": "code",
   "execution_count": 13,
   "metadata": {
    "id": "MbMjOflQ9hE1"
   },
   "outputs": [],
   "source": [
    "# Model checkpoint callback\n",
    "cp_callback = tf.keras.callbacks.ModelCheckpoint(\n",
    "    model_save_path, verbose=1, save_weights_only=False, save_best_only=True)\n",
    "# Callback for early stopping\n",
    "es_callback = tf.keras.callbacks.EarlyStopping(patience=50, verbose=1)"
   ]
  },
  {
   "cell_type": "code",
   "execution_count": 14,
   "metadata": {
    "id": "c3Dac0M_9hE2"
   },
   "outputs": [],
   "source": [
    "# Model compilation\n",
    "model.compile(\n",
    "    optimizer='adam',\n",
    "    loss='sparse_categorical_crossentropy',\n",
    "    metrics=['accuracy']\n",
    ")"
   ]
  },
  {
   "cell_type": "markdown",
   "metadata": {
    "id": "7XI0j1Iu9hE2"
   },
   "source": [
    "# Model training"
   ]
  },
  {
   "cell_type": "code",
   "execution_count": 15,
   "metadata": {
    "id": "WirBl-JE9hE3",
    "scrolled": true
   },
   "outputs": [
    {
     "name": "stdout",
     "output_type": "stream",
     "text": [
      "Epoch 1/1000\n",
      "82/82 [==============================] - 1s 4ms/step - loss: 1.9356 - accuracy: 0.2229 - val_loss: 1.6331 - val_accuracy: 0.3772\n",
      "\n",
      "Epoch 00001: val_loss improved from inf to 1.63315, saving model to model/keypoint_classifier\\keypoint_classifier_new.hdf5\n",
      "Epoch 2/1000\n",
      "82/82 [==============================] - 0s 3ms/step - loss: 1.3901 - accuracy: 0.5071 - val_loss: 1.1731 - val_accuracy: 0.5919\n",
      "\n",
      "Epoch 00002: val_loss improved from 1.63315 to 1.17310, saving model to model/keypoint_classifier\\keypoint_classifier_new.hdf5\n",
      "Epoch 3/1000\n",
      "82/82 [==============================] - 0s 3ms/step - loss: 0.9521 - accuracy: 0.6635 - val_loss: 0.7464 - val_accuracy: 0.7699\n",
      "\n",
      "Epoch 00003: val_loss improved from 1.17310 to 0.74638, saving model to model/keypoint_classifier\\keypoint_classifier_new.hdf5\n",
      "Epoch 4/1000\n",
      "82/82 [==============================] - 0s 3ms/step - loss: 0.5912 - accuracy: 0.8246 - val_loss: 0.4610 - val_accuracy: 0.8792\n",
      "\n",
      "Epoch 00004: val_loss improved from 0.74638 to 0.46097, saving model to model/keypoint_classifier\\keypoint_classifier_new.hdf5\n",
      "Epoch 5/1000\n",
      "82/82 [==============================] - 0s 3ms/step - loss: 0.3775 - accuracy: 0.9008 - val_loss: 0.3098 - val_accuracy: 0.9153\n",
      "\n",
      "Epoch 00005: val_loss improved from 0.46097 to 0.30981, saving model to model/keypoint_classifier\\keypoint_classifier_new.hdf5\n",
      "Epoch 6/1000\n",
      "82/82 [==============================] - 0s 2ms/step - loss: 0.2609 - accuracy: 0.9378 - val_loss: 0.2246 - val_accuracy: 0.9468\n",
      "\n",
      "Epoch 00006: val_loss improved from 0.30981 to 0.22459, saving model to model/keypoint_classifier\\keypoint_classifier_new.hdf5\n",
      "Epoch 7/1000\n",
      "82/82 [==============================] - 0s 3ms/step - loss: 0.1951 - accuracy: 0.9540 - val_loss: 0.1806 - val_accuracy: 0.9554\n",
      "\n",
      "Epoch 00007: val_loss improved from 0.22459 to 0.18065, saving model to model/keypoint_classifier\\keypoint_classifier_new.hdf5\n",
      "Epoch 8/1000\n",
      "82/82 [==============================] - 0s 2ms/step - loss: 0.1536 - accuracy: 0.9630 - val_loss: 0.1520 - val_accuracy: 0.9611\n",
      "\n",
      "Epoch 00008: val_loss improved from 0.18065 to 0.15196, saving model to model/keypoint_classifier\\keypoint_classifier_new.hdf5\n",
      "Epoch 9/1000\n",
      "82/82 [==============================] - 0s 3ms/step - loss: 0.1280 - accuracy: 0.9702 - val_loss: 0.1255 - val_accuracy: 0.9748\n",
      "\n",
      "Epoch 00009: val_loss improved from 0.15196 to 0.12552, saving model to model/keypoint_classifier\\keypoint_classifier_new.hdf5\n",
      "Epoch 10/1000\n",
      "82/82 [==============================] - 0s 2ms/step - loss: 0.1076 - accuracy: 0.9761 - val_loss: 0.1026 - val_accuracy: 0.9805\n",
      "\n",
      "Epoch 00010: val_loss improved from 0.12552 to 0.10260, saving model to model/keypoint_classifier\\keypoint_classifier_new.hdf5\n",
      "Epoch 11/1000\n",
      "82/82 [==============================] - 0s 2ms/step - loss: 0.0904 - accuracy: 0.9794 - val_loss: 0.0917 - val_accuracy: 0.9851\n",
      "\n",
      "Epoch 00011: val_loss improved from 0.10260 to 0.09172, saving model to model/keypoint_classifier\\keypoint_classifier_new.hdf5\n",
      "Epoch 12/1000\n",
      "82/82 [==============================] - 0s 2ms/step - loss: 0.0803 - accuracy: 0.9832 - val_loss: 0.0786 - val_accuracy: 0.9886\n",
      "\n",
      "Epoch 00012: val_loss improved from 0.09172 to 0.07864, saving model to model/keypoint_classifier\\keypoint_classifier_new.hdf5\n",
      "Epoch 13/1000\n",
      "82/82 [==============================] - 0s 3ms/step - loss: 0.0702 - accuracy: 0.9859 - val_loss: 0.0723 - val_accuracy: 0.9880\n",
      "\n",
      "Epoch 00013: val_loss improved from 0.07864 to 0.07228, saving model to model/keypoint_classifier\\keypoint_classifier_new.hdf5\n",
      "Epoch 14/1000\n",
      "82/82 [==============================] - 0s 2ms/step - loss: 0.0637 - accuracy: 0.9874 - val_loss: 0.0689 - val_accuracy: 0.9868\n",
      "\n",
      "Epoch 00014: val_loss improved from 0.07228 to 0.06891, saving model to model/keypoint_classifier\\keypoint_classifier_new.hdf5\n",
      "Epoch 15/1000\n",
      "82/82 [==============================] - 0s 2ms/step - loss: 0.0556 - accuracy: 0.9891 - val_loss: 0.0597 - val_accuracy: 0.9897\n",
      "\n",
      "Epoch 00015: val_loss improved from 0.06891 to 0.05966, saving model to model/keypoint_classifier\\keypoint_classifier_new.hdf5\n",
      "Epoch 16/1000\n",
      "82/82 [==============================] - 0s 2ms/step - loss: 0.0514 - accuracy: 0.9887 - val_loss: 0.0541 - val_accuracy: 0.9886\n",
      "\n",
      "Epoch 00016: val_loss improved from 0.05966 to 0.05411, saving model to model/keypoint_classifier\\keypoint_classifier_new.hdf5\n",
      "Epoch 17/1000\n",
      "82/82 [==============================] - 0s 3ms/step - loss: 0.0496 - accuracy: 0.9885 - val_loss: 0.0545 - val_accuracy: 0.9897\n",
      "\n",
      "Epoch 00017: val_loss did not improve from 0.05411\n",
      "Epoch 18/1000\n",
      "82/82 [==============================] - 0s 2ms/step - loss: 0.0448 - accuracy: 0.9899 - val_loss: 0.0515 - val_accuracy: 0.9874\n",
      "\n",
      "Epoch 00018: val_loss improved from 0.05411 to 0.05154, saving model to model/keypoint_classifier\\keypoint_classifier_new.hdf5\n",
      "Epoch 19/1000\n",
      "82/82 [==============================] - 0s 2ms/step - loss: 0.0410 - accuracy: 0.9916 - val_loss: 0.0450 - val_accuracy: 0.9897\n",
      "\n",
      "Epoch 00019: val_loss improved from 0.05154 to 0.04498, saving model to model/keypoint_classifier\\keypoint_classifier_new.hdf5\n",
      "Epoch 20/1000\n",
      "82/82 [==============================] - 0s 2ms/step - loss: 0.0377 - accuracy: 0.9912 - val_loss: 0.0455 - val_accuracy: 0.9920\n",
      "\n",
      "Epoch 00020: val_loss did not improve from 0.04498\n",
      "Epoch 21/1000\n",
      "82/82 [==============================] - 0s 2ms/step - loss: 0.0361 - accuracy: 0.9918 - val_loss: 0.0427 - val_accuracy: 0.9897\n",
      "\n",
      "Epoch 00021: val_loss improved from 0.04498 to 0.04273, saving model to model/keypoint_classifier\\keypoint_classifier_new.hdf5\n",
      "Epoch 22/1000\n",
      "82/82 [==============================] - 0s 2ms/step - loss: 0.0328 - accuracy: 0.9941 - val_loss: 0.0463 - val_accuracy: 0.9897\n",
      "\n",
      "Epoch 00022: val_loss did not improve from 0.04273\n",
      "Epoch 23/1000\n",
      "82/82 [==============================] - 0s 2ms/step - loss: 0.0307 - accuracy: 0.9935 - val_loss: 0.0441 - val_accuracy: 0.9886\n",
      "\n",
      "Epoch 00023: val_loss did not improve from 0.04273\n",
      "Epoch 24/1000\n",
      "82/82 [==============================] - 0s 3ms/step - loss: 0.0310 - accuracy: 0.9933 - val_loss: 0.0391 - val_accuracy: 0.9891\n",
      "\n",
      "Epoch 00024: val_loss improved from 0.04273 to 0.03909, saving model to model/keypoint_classifier\\keypoint_classifier_new.hdf5\n",
      "Epoch 25/1000\n",
      "82/82 [==============================] - 0s 2ms/step - loss: 0.0259 - accuracy: 0.9945 - val_loss: 0.0334 - val_accuracy: 0.9931\n",
      "\n",
      "Epoch 00025: val_loss improved from 0.03909 to 0.03343, saving model to model/keypoint_classifier\\keypoint_classifier_new.hdf5\n",
      "Epoch 26/1000\n",
      "82/82 [==============================] - 0s 3ms/step - loss: 0.0271 - accuracy: 0.9950 - val_loss: 0.0313 - val_accuracy: 0.9914\n",
      "\n",
      "Epoch 00026: val_loss improved from 0.03343 to 0.03134, saving model to model/keypoint_classifier\\keypoint_classifier_new.hdf5\n",
      "Epoch 27/1000\n",
      "82/82 [==============================] - 0s 2ms/step - loss: 0.0225 - accuracy: 0.9954 - val_loss: 0.0327 - val_accuracy: 0.9908\n",
      "\n",
      "Epoch 00027: val_loss did not improve from 0.03134\n",
      "Epoch 28/1000\n",
      "82/82 [==============================] - 0s 2ms/step - loss: 0.0237 - accuracy: 0.9948 - val_loss: 0.0323 - val_accuracy: 0.9926\n",
      "\n",
      "Epoch 00028: val_loss did not improve from 0.03134\n",
      "Epoch 29/1000\n",
      "82/82 [==============================] - 0s 2ms/step - loss: 0.0207 - accuracy: 0.9952 - val_loss: 0.0311 - val_accuracy: 0.9908\n",
      "\n",
      "Epoch 00029: val_loss improved from 0.03134 to 0.03111, saving model to model/keypoint_classifier\\keypoint_classifier_new.hdf5\n",
      "Epoch 30/1000\n",
      "82/82 [==============================] - 0s 3ms/step - loss: 0.0214 - accuracy: 0.9956 - val_loss: 0.0360 - val_accuracy: 0.9897\n",
      "\n",
      "Epoch 00030: val_loss did not improve from 0.03111\n",
      "Epoch 31/1000\n",
      "82/82 [==============================] - 0s 3ms/step - loss: 0.0219 - accuracy: 0.9937 - val_loss: 0.0309 - val_accuracy: 0.9908\n",
      "\n",
      "Epoch 00031: val_loss improved from 0.03111 to 0.03094, saving model to model/keypoint_classifier\\keypoint_classifier_new.hdf5\n",
      "Epoch 32/1000\n",
      "82/82 [==============================] - 0s 3ms/step - loss: 0.0180 - accuracy: 0.9966 - val_loss: 0.0289 - val_accuracy: 0.9931\n",
      "\n",
      "Epoch 00032: val_loss improved from 0.03094 to 0.02885, saving model to model/keypoint_classifier\\keypoint_classifier_new.hdf5\n",
      "Epoch 33/1000\n"
     ]
    },
    {
     "name": "stdout",
     "output_type": "stream",
     "text": [
      "82/82 [==============================] - 0s 3ms/step - loss: 0.0180 - accuracy: 0.9958 - val_loss: 0.0342 - val_accuracy: 0.9903\n",
      "\n",
      "Epoch 00033: val_loss did not improve from 0.02885\n",
      "Epoch 34/1000\n",
      "82/82 [==============================] - 0s 3ms/step - loss: 0.0181 - accuracy: 0.9964 - val_loss: 0.0297 - val_accuracy: 0.9926\n",
      "\n",
      "Epoch 00034: val_loss did not improve from 0.02885\n",
      "Epoch 35/1000\n",
      "82/82 [==============================] - 0s 3ms/step - loss: 0.0169 - accuracy: 0.9969 - val_loss: 0.0279 - val_accuracy: 0.9937\n",
      "\n",
      "Epoch 00035: val_loss improved from 0.02885 to 0.02794, saving model to model/keypoint_classifier\\keypoint_classifier_new.hdf5\n",
      "Epoch 36/1000\n",
      "82/82 [==============================] - 0s 3ms/step - loss: 0.0158 - accuracy: 0.9962 - val_loss: 0.0292 - val_accuracy: 0.9926\n",
      "\n",
      "Epoch 00036: val_loss did not improve from 0.02794\n",
      "Epoch 37/1000\n",
      "82/82 [==============================] - 0s 3ms/step - loss: 0.0144 - accuracy: 0.9971 - val_loss: 0.0258 - val_accuracy: 0.9931\n",
      "\n",
      "Epoch 00037: val_loss improved from 0.02794 to 0.02582, saving model to model/keypoint_classifier\\keypoint_classifier_new.hdf5\n",
      "Epoch 38/1000\n",
      "82/82 [==============================] - 0s 3ms/step - loss: 0.0142 - accuracy: 0.9969 - val_loss: 0.0305 - val_accuracy: 0.9920\n",
      "\n",
      "Epoch 00038: val_loss did not improve from 0.02582\n",
      "Epoch 39/1000\n",
      "82/82 [==============================] - 0s 2ms/step - loss: 0.0138 - accuracy: 0.9968 - val_loss: 0.0296 - val_accuracy: 0.9926\n",
      "\n",
      "Epoch 00039: val_loss did not improve from 0.02582\n",
      "Epoch 40/1000\n",
      "82/82 [==============================] - 0s 2ms/step - loss: 0.0124 - accuracy: 0.9966 - val_loss: 0.0276 - val_accuracy: 0.9931\n",
      "\n",
      "Epoch 00040: val_loss did not improve from 0.02582\n",
      "Epoch 41/1000\n",
      "82/82 [==============================] - 0s 2ms/step - loss: 0.0115 - accuracy: 0.9977 - val_loss: 0.0261 - val_accuracy: 0.9937\n",
      "\n",
      "Epoch 00041: val_loss did not improve from 0.02582\n",
      "Epoch 42/1000\n",
      "82/82 [==============================] - 0s 3ms/step - loss: 0.0105 - accuracy: 0.9973 - val_loss: 0.0330 - val_accuracy: 0.9908\n",
      "\n",
      "Epoch 00042: val_loss did not improve from 0.02582\n",
      "Epoch 43/1000\n",
      "82/82 [==============================] - 0s 3ms/step - loss: 0.0118 - accuracy: 0.9977 - val_loss: 0.0294 - val_accuracy: 0.9903\n",
      "\n",
      "Epoch 00043: val_loss did not improve from 0.02582\n",
      "Epoch 44/1000\n",
      "82/82 [==============================] - 0s 3ms/step - loss: 0.0109 - accuracy: 0.9979 - val_loss: 0.0278 - val_accuracy: 0.9948\n",
      "\n",
      "Epoch 00044: val_loss did not improve from 0.02582\n",
      "Epoch 45/1000\n",
      "82/82 [==============================] - 0s 3ms/step - loss: 0.0100 - accuracy: 0.9977 - val_loss: 0.0350 - val_accuracy: 0.9903\n",
      "\n",
      "Epoch 00045: val_loss did not improve from 0.02582\n",
      "Epoch 46/1000\n",
      "82/82 [==============================] - 0s 3ms/step - loss: 0.0095 - accuracy: 0.9985 - val_loss: 0.0256 - val_accuracy: 0.9954\n",
      "\n",
      "Epoch 00046: val_loss improved from 0.02582 to 0.02560, saving model to model/keypoint_classifier\\keypoint_classifier_new.hdf5\n",
      "Epoch 47/1000\n",
      "82/82 [==============================] - 0s 3ms/step - loss: 0.0102 - accuracy: 0.9977 - val_loss: 0.0308 - val_accuracy: 0.9914\n",
      "\n",
      "Epoch 00047: val_loss did not improve from 0.02560\n",
      "Epoch 48/1000\n",
      "82/82 [==============================] - 0s 3ms/step - loss: 0.0099 - accuracy: 0.9975 - val_loss: 0.0289 - val_accuracy: 0.9931\n",
      "\n",
      "Epoch 00048: val_loss did not improve from 0.02560\n",
      "Epoch 49/1000\n",
      "82/82 [==============================] - 0s 3ms/step - loss: 0.0082 - accuracy: 0.9981 - val_loss: 0.0404 - val_accuracy: 0.9914\n",
      "\n",
      "Epoch 00049: val_loss did not improve from 0.02560\n",
      "Epoch 50/1000\n",
      "82/82 [==============================] - 0s 2ms/step - loss: 0.0085 - accuracy: 0.9989 - val_loss: 0.0224 - val_accuracy: 0.9954\n",
      "\n",
      "Epoch 00050: val_loss improved from 0.02560 to 0.02235, saving model to model/keypoint_classifier\\keypoint_classifier_new.hdf5\n",
      "Epoch 51/1000\n",
      "82/82 [==============================] - 0s 2ms/step - loss: 0.0081 - accuracy: 0.9987 - val_loss: 0.0260 - val_accuracy: 0.9926\n",
      "\n",
      "Epoch 00051: val_loss did not improve from 0.02235\n",
      "Epoch 52/1000\n",
      "82/82 [==============================] - 0s 3ms/step - loss: 0.0093 - accuracy: 0.9985 - val_loss: 0.0330 - val_accuracy: 0.9937\n",
      "\n",
      "Epoch 00052: val_loss did not improve from 0.02235\n",
      "Epoch 53/1000\n",
      "82/82 [==============================] - 0s 2ms/step - loss: 0.0078 - accuracy: 0.9981 - val_loss: 0.0255 - val_accuracy: 0.9926\n",
      "\n",
      "Epoch 00053: val_loss did not improve from 0.02235\n",
      "Epoch 54/1000\n",
      "82/82 [==============================] - 0s 2ms/step - loss: 0.0073 - accuracy: 0.9987 - val_loss: 0.0307 - val_accuracy: 0.9931\n",
      "\n",
      "Epoch 00054: val_loss did not improve from 0.02235\n",
      "Epoch 55/1000\n",
      "82/82 [==============================] - 0s 2ms/step - loss: 0.0100 - accuracy: 0.9971 - val_loss: 0.0278 - val_accuracy: 0.9914\n",
      "\n",
      "Epoch 00055: val_loss did not improve from 0.02235\n",
      "Epoch 56/1000\n",
      "82/82 [==============================] - 0s 3ms/step - loss: 0.0091 - accuracy: 0.9977 - val_loss: 0.0282 - val_accuracy: 0.9926\n",
      "\n",
      "Epoch 00056: val_loss did not improve from 0.02235\n",
      "Epoch 57/1000\n",
      "82/82 [==============================] - 0s 3ms/step - loss: 0.0075 - accuracy: 0.9983 - val_loss: 0.0308 - val_accuracy: 0.9908\n",
      "\n",
      "Epoch 00057: val_loss did not improve from 0.02235\n",
      "Epoch 58/1000\n",
      "82/82 [==============================] - 0s 3ms/step - loss: 0.0066 - accuracy: 0.9985 - val_loss: 0.0263 - val_accuracy: 0.9920\n",
      "\n",
      "Epoch 00058: val_loss did not improve from 0.02235\n",
      "Epoch 59/1000\n",
      "82/82 [==============================] - 0s 3ms/step - loss: 0.0067 - accuracy: 0.9987 - val_loss: 0.0407 - val_accuracy: 0.9908\n",
      "\n",
      "Epoch 00059: val_loss did not improve from 0.02235\n",
      "Epoch 60/1000\n",
      "82/82 [==============================] - 0s 2ms/step - loss: 0.0091 - accuracy: 0.9971 - val_loss: 0.0252 - val_accuracy: 0.9954\n",
      "\n",
      "Epoch 00060: val_loss did not improve from 0.02235\n",
      "Epoch 61/1000\n",
      "82/82 [==============================] - 0s 2ms/step - loss: 0.0073 - accuracy: 0.9979 - val_loss: 0.0350 - val_accuracy: 0.9914\n",
      "\n",
      "Epoch 00061: val_loss did not improve from 0.02235\n",
      "Epoch 62/1000\n",
      "82/82 [==============================] - 0s 2ms/step - loss: 0.0072 - accuracy: 0.9985 - val_loss: 0.0499 - val_accuracy: 0.9903\n",
      "\n",
      "Epoch 00062: val_loss did not improve from 0.02235\n",
      "Epoch 63/1000\n",
      "82/82 [==============================] - 0s 3ms/step - loss: 0.0068 - accuracy: 0.9983 - val_loss: 0.0280 - val_accuracy: 0.9954\n",
      "\n",
      "Epoch 00063: val_loss did not improve from 0.02235\n",
      "Epoch 64/1000\n",
      "82/82 [==============================] - 0s 3ms/step - loss: 0.0069 - accuracy: 0.9983 - val_loss: 0.0281 - val_accuracy: 0.9920\n",
      "\n",
      "Epoch 00064: val_loss did not improve from 0.02235\n",
      "Epoch 65/1000\n",
      "82/82 [==============================] - 0s 2ms/step - loss: 0.0048 - accuracy: 0.9990 - val_loss: 0.0286 - val_accuracy: 0.9931\n",
      "\n",
      "Epoch 00065: val_loss did not improve from 0.02235\n",
      "Epoch 66/1000\n",
      "82/82 [==============================] - 0s 2ms/step - loss: 0.0056 - accuracy: 0.9977 - val_loss: 0.0298 - val_accuracy: 0.9931\n",
      "\n",
      "Epoch 00066: val_loss did not improve from 0.02235\n",
      "Epoch 67/1000\n",
      "82/82 [==============================] - 0s 3ms/step - loss: 0.0056 - accuracy: 0.9989 - val_loss: 0.0322 - val_accuracy: 0.9931\n",
      "\n",
      "Epoch 00067: val_loss did not improve from 0.02235\n",
      "Epoch 68/1000\n",
      "82/82 [==============================] - 0s 3ms/step - loss: 0.0050 - accuracy: 0.9992 - val_loss: 0.0292 - val_accuracy: 0.9931\n",
      "\n",
      "Epoch 00068: val_loss did not improve from 0.02235\n",
      "Epoch 69/1000\n",
      "82/82 [==============================] - 0s 2ms/step - loss: 0.0041 - accuracy: 0.9994 - val_loss: 0.0271 - val_accuracy: 0.9937\n",
      "\n",
      "Epoch 00069: val_loss did not improve from 0.02235\n",
      "Epoch 70/1000\n",
      "82/82 [==============================] - 0s 3ms/step - loss: 0.0045 - accuracy: 0.9990 - val_loss: 0.0296 - val_accuracy: 0.9926\n",
      "\n",
      "Epoch 00070: val_loss did not improve from 0.02235\n",
      "Epoch 71/1000\n",
      "82/82 [==============================] - 0s 2ms/step - loss: 0.0058 - accuracy: 0.9985 - val_loss: 0.0359 - val_accuracy: 0.9931\n",
      "\n",
      "Epoch 00071: val_loss did not improve from 0.02235\n",
      "Epoch 72/1000\n",
      "82/82 [==============================] - 0s 2ms/step - loss: 0.0047 - accuracy: 0.9989 - val_loss: 0.0311 - val_accuracy: 0.9931\n",
      "\n",
      "Epoch 00072: val_loss did not improve from 0.02235\n",
      "Epoch 73/1000\n",
      "82/82 [==============================] - 0s 2ms/step - loss: 0.0045 - accuracy: 0.9989 - val_loss: 0.0233 - val_accuracy: 0.9954\n"
     ]
    },
    {
     "name": "stdout",
     "output_type": "stream",
     "text": [
      "\n",
      "Epoch 00073: val_loss did not improve from 0.02235\n",
      "Epoch 74/1000\n",
      "82/82 [==============================] - 0s 2ms/step - loss: 0.0044 - accuracy: 0.9992 - val_loss: 0.0256 - val_accuracy: 0.9948\n",
      "\n",
      "Epoch 00074: val_loss did not improve from 0.02235\n",
      "Epoch 75/1000\n",
      "82/82 [==============================] - 0s 3ms/step - loss: 0.0046 - accuracy: 0.9989 - val_loss: 0.0293 - val_accuracy: 0.9937\n",
      "\n",
      "Epoch 00075: val_loss did not improve from 0.02235\n",
      "Epoch 76/1000\n",
      "82/82 [==============================] - 0s 2ms/step - loss: 0.0033 - accuracy: 0.9996 - val_loss: 0.0332 - val_accuracy: 0.9937\n",
      "\n",
      "Epoch 00076: val_loss did not improve from 0.02235\n",
      "Epoch 77/1000\n",
      "82/82 [==============================] - 0s 2ms/step - loss: 0.0049 - accuracy: 0.9985 - val_loss: 0.0319 - val_accuracy: 0.9914\n",
      "\n",
      "Epoch 00077: val_loss did not improve from 0.02235\n",
      "Epoch 78/1000\n",
      "82/82 [==============================] - 0s 2ms/step - loss: 0.0047 - accuracy: 0.9987 - val_loss: 0.0286 - val_accuracy: 0.9931\n",
      "\n",
      "Epoch 00078: val_loss did not improve from 0.02235\n",
      "Epoch 79/1000\n",
      "82/82 [==============================] - 0s 2ms/step - loss: 0.0068 - accuracy: 0.9979 - val_loss: 0.0376 - val_accuracy: 0.9903\n",
      "\n",
      "Epoch 00079: val_loss did not improve from 0.02235\n",
      "Epoch 80/1000\n",
      "82/82 [==============================] - 0s 3ms/step - loss: 0.0046 - accuracy: 0.9989 - val_loss: 0.0357 - val_accuracy: 0.9908\n",
      "\n",
      "Epoch 00080: val_loss did not improve from 0.02235\n",
      "Epoch 81/1000\n",
      "82/82 [==============================] - 0s 2ms/step - loss: 0.0038 - accuracy: 0.9990 - val_loss: 0.0387 - val_accuracy: 0.9891\n",
      "\n",
      "Epoch 00081: val_loss did not improve from 0.02235\n",
      "Epoch 82/1000\n",
      "82/82 [==============================] - 0s 2ms/step - loss: 0.0057 - accuracy: 0.9981 - val_loss: 0.0276 - val_accuracy: 0.9937\n",
      "\n",
      "Epoch 00082: val_loss did not improve from 0.02235\n",
      "Epoch 83/1000\n",
      "82/82 [==============================] - 0s 2ms/step - loss: 0.0033 - accuracy: 0.9992 - val_loss: 0.0332 - val_accuracy: 0.9931\n",
      "\n",
      "Epoch 00083: val_loss did not improve from 0.02235\n",
      "Epoch 84/1000\n",
      "82/82 [==============================] - 0s 2ms/step - loss: 0.0033 - accuracy: 0.9996 - val_loss: 0.0344 - val_accuracy: 0.9937\n",
      "\n",
      "Epoch 00084: val_loss did not improve from 0.02235\n",
      "Epoch 85/1000\n",
      "82/82 [==============================] - 0s 2ms/step - loss: 0.0027 - accuracy: 0.9994 - val_loss: 0.0362 - val_accuracy: 0.9914\n",
      "\n",
      "Epoch 00085: val_loss did not improve from 0.02235\n",
      "Epoch 86/1000\n",
      "82/82 [==============================] - 0s 3ms/step - loss: 0.0041 - accuracy: 0.9989 - val_loss: 0.0273 - val_accuracy: 0.9948\n",
      "\n",
      "Epoch 00086: val_loss did not improve from 0.02235\n",
      "Epoch 87/1000\n",
      "82/82 [==============================] - 0s 3ms/step - loss: 0.0058 - accuracy: 0.9979 - val_loss: 0.0305 - val_accuracy: 0.9937\n",
      "\n",
      "Epoch 00087: val_loss did not improve from 0.02235\n",
      "Epoch 88/1000\n",
      "82/82 [==============================] - 0s 3ms/step - loss: 0.0043 - accuracy: 0.9990 - val_loss: 0.0354 - val_accuracy: 0.9908\n",
      "\n",
      "Epoch 00088: val_loss did not improve from 0.02235\n",
      "Epoch 89/1000\n",
      "82/82 [==============================] - 0s 3ms/step - loss: 0.0035 - accuracy: 0.9992 - val_loss: 0.0343 - val_accuracy: 0.9931\n",
      "\n",
      "Epoch 00089: val_loss did not improve from 0.02235\n",
      "Epoch 90/1000\n",
      "82/82 [==============================] - 0s 3ms/step - loss: 0.0022 - accuracy: 0.9996 - val_loss: 0.0319 - val_accuracy: 0.9943\n",
      "\n",
      "Epoch 00090: val_loss did not improve from 0.02235\n",
      "Epoch 91/1000\n",
      "82/82 [==============================] - 0s 3ms/step - loss: 0.0022 - accuracy: 0.9996 - val_loss: 0.0309 - val_accuracy: 0.9937\n",
      "\n",
      "Epoch 00091: val_loss did not improve from 0.02235\n",
      "Epoch 92/1000\n",
      "82/82 [==============================] - 0s 3ms/step - loss: 0.0060 - accuracy: 0.9985 - val_loss: 0.0771 - val_accuracy: 0.9788\n",
      "\n",
      "Epoch 00092: val_loss did not improve from 0.02235\n",
      "Epoch 93/1000\n",
      "82/82 [==============================] - 0s 2ms/step - loss: 0.0112 - accuracy: 0.9969 - val_loss: 0.0284 - val_accuracy: 0.9943\n",
      "\n",
      "Epoch 00093: val_loss did not improve from 0.02235\n",
      "Epoch 94/1000\n",
      "82/82 [==============================] - 0s 3ms/step - loss: 0.0037 - accuracy: 0.9992 - val_loss: 0.0338 - val_accuracy: 0.9937\n",
      "\n",
      "Epoch 00094: val_loss did not improve from 0.02235\n",
      "Epoch 95/1000\n",
      "82/82 [==============================] - 0s 2ms/step - loss: 0.0023 - accuracy: 0.9996 - val_loss: 0.0302 - val_accuracy: 0.9931\n",
      "\n",
      "Epoch 00095: val_loss did not improve from 0.02235\n",
      "Epoch 96/1000\n",
      "82/82 [==============================] - 0s 3ms/step - loss: 0.0021 - accuracy: 0.9996 - val_loss: 0.0316 - val_accuracy: 0.9931\n",
      "\n",
      "Epoch 00096: val_loss did not improve from 0.02235\n",
      "Epoch 97/1000\n",
      "82/82 [==============================] - 0s 2ms/step - loss: 0.0017 - accuracy: 0.9996 - val_loss: 0.0336 - val_accuracy: 0.9937\n",
      "\n",
      "Epoch 00097: val_loss did not improve from 0.02235\n",
      "Epoch 98/1000\n",
      "82/82 [==============================] - 0s 3ms/step - loss: 0.0017 - accuracy: 0.9996 - val_loss: 0.0316 - val_accuracy: 0.9931\n",
      "\n",
      "Epoch 00098: val_loss did not improve from 0.02235\n",
      "Epoch 99/1000\n",
      "82/82 [==============================] - 0s 2ms/step - loss: 0.0017 - accuracy: 0.9996 - val_loss: 0.0291 - val_accuracy: 0.9954\n",
      "\n",
      "Epoch 00099: val_loss did not improve from 0.02235\n",
      "Epoch 100/1000\n",
      "82/82 [==============================] - 0s 2ms/step - loss: 0.0014 - accuracy: 0.9996 - val_loss: 0.0366 - val_accuracy: 0.9931\n",
      "\n",
      "Epoch 00100: val_loss did not improve from 0.02235\n",
      "Epoch 00100: early stopping\n"
     ]
    },
    {
     "data": {
      "text/plain": [
       "<tensorflow.python.keras.callbacks.History at 0x1ff50804eb8>"
      ]
     },
     "execution_count": 15,
     "metadata": {},
     "output_type": "execute_result"
    }
   ],
   "source": [
    "model.fit(\n",
    "    X_train,\n",
    "    y_train,\n",
    "    epochs=1000,\n",
    "    batch_size=64,\n",
    "    validation_data=(X_test, y_test),\n",
    "    callbacks=[cp_callback, es_callback]\n",
    ")"
   ]
  },
  {
   "cell_type": "code",
   "execution_count": 16,
   "metadata": {
    "id": "RBkmDeUW9hE4"
   },
   "outputs": [],
   "source": [
    "# Loading the saved model\n",
    "model = tf.keras.models.load_model(model_save_path)"
   ]
  },
  {
   "cell_type": "code",
   "execution_count": 17,
   "metadata": {
    "colab": {
     "base_uri": "https://localhost:8080/"
    },
    "id": "pxvb2Y299hE3",
    "outputId": "7015e279-0501-4f24-d1b5-90652d2de17d"
   },
   "outputs": [
    {
     "name": "stdout",
     "output_type": "stream",
     "text": [
      "28/28 [==============================] - 0s 1ms/step - loss: 0.0224 - accuracy: 0.9954\n"
     ]
    }
   ],
   "source": [
    "# Model evaluation\n",
    "# TODO Test on loaded model\n",
    "val_loss, val_acc = model.evaluate(X_test, y_test, batch_size=64)"
   ]
  },
  {
   "cell_type": "code",
   "execution_count": 18,
   "metadata": {
    "colab": {
     "base_uri": "https://localhost:8080/"
    },
    "id": "tFz9Tb0I9hE4",
    "outputId": "bb8a62a9-bf7d-4d99-8099-bda4e2e1c73a"
   },
   "outputs": [
    {
     "name": "stdout",
     "output_type": "stream",
     "text": [
      "[3.0125037e-05 3.7938624e-10 9.2264156e-12 8.5561551e-11 2.4634532e-11\n",
      " 2.2788012e-10 1.0305611e-20 4.9361040e-09 9.9996984e-01]\n",
      "8\n"
     ]
    }
   ],
   "source": [
    "# Inference test\n",
    "predict_result = model.predict(np.array([X_test[0]]))\n",
    "print(np.squeeze(predict_result))\n",
    "print(np.argmax(np.squeeze(predict_result)))"
   ]
  },
  {
   "cell_type": "markdown",
   "metadata": {
    "id": "S3U4yNWx9hE4"
   },
   "source": [
    "# Confusion matrix"
   ]
  },
  {
   "cell_type": "code",
   "execution_count": 19,
   "metadata": {
    "colab": {
     "base_uri": "https://localhost:8080/",
     "height": 646
    },
    "id": "AP1V6SCk9hE5",
    "outputId": "efce96b9-ca1c-44a5-ef77-58f1d5fc154c"
   },
   "outputs": [
    {
     "data": {
      "image/png": "[encoded data removed]",
      "text/plain": [
       "<Figure size 504x432 with 2 Axes>"
      ]
     },
     "metadata": {
      "needs_background": "light"
     },
     "output_type": "display_data"
    },
    {
     "name": "stdout",
     "output_type": "stream",
     "text": [
      "Classification Report\n",
      "              precision    recall  f1-score   support\n",
      "\n",
      "           0       0.99      0.99      0.99       424\n",
      "           1       1.00      1.00      1.00       392\n",
      "           2       0.99      0.99      0.99       385\n",
      "           3       0.99      1.00      1.00       152\n",
      "           4       1.00      1.00      1.00        41\n",
      "           5       0.99      1.00      0.99        68\n",
      "           6       1.00      1.00      1.00        33\n",
      "           7       1.00      1.00      1.00        51\n",
      "           8       1.00      1.00      1.00       201\n",
      "\n",
      "    accuracy                           1.00      1747\n",
      "   macro avg       1.00      1.00      1.00      1747\n",
      "weighted avg       1.00      1.00      1.00      1747\n",
      "\n"
     ]
    }
   ],
   "source": [
    "import pandas as pd\n",
    "import seaborn as sns\n",
    "import matplotlib.pyplot as plt\n",
    "from sklearn.metrics import confusion_matrix, classification_report\n",
    "\n",
    "def print_confusion_matrix(y_true, y_pred, report=True):\n",
    "    labels = sorted(list(set(y_true)))\n",
    "    cmx_data = confusion_matrix(y_true, y_pred, labels=labels)\n",
    "    \n",
    "    df_cmx = pd.DataFrame(cmx_data, index=labels, columns=labels)\n",
    " \n",
    "    fig, ax = plt.subplots(figsize=(7, 6))\n",
    "    sns.heatmap(df_cmx, annot=True, fmt='g' ,square=False)\n",
    "    ax.set_ylim(len(set(y_true)), 0)\n",
    "    plt.show()\n",
    "    \n",
    "    if report:\n",
    "        print('Classification Report')\n",
    "        print(classification_report(y_test, y_pred))\n",
    "\n",
    "Y_pred = model.predict(X_test)\n",
    "y_pred = np.argmax(Y_pred, axis=1)\n",
    "\n",
    "print_confusion_matrix(y_test, y_pred)"
   ]
  },
  {
   "cell_type": "markdown",
   "metadata": {
    "id": "FNP6aqzc9hE5"
   },
   "source": [
    "# Convert to model for Tensorflow-Lite"
   ]
  },
  {
   "cell_type": "code",
   "execution_count": 20,
   "metadata": {
    "id": "ODjnYyld9hE6"
   },
   "outputs": [],
   "source": [
    "# Save as a model dedicated to inference\n",
    "model.save(model_save_path, include_optimizer=False)"
   ]
  },
  {
   "cell_type": "code",
   "execution_count": 21,
   "metadata": {
    "colab": {
     "base_uri": "https://localhost:8080/"
    },
    "id": "zRfuK8Y59hE6",
    "outputId": "106250fb-84e1-4ee8-bc8e-dcedb2bfd31c"
   },
   "outputs": [
    {
     "name": "stdout",
     "output_type": "stream",
     "text": [
      "INFO:tensorflow:Assets written to: C:\\Users\\49163\\AppData\\Local\\Temp\\tmpb0vctx7k\\assets\n"
     ]
    },
    {
     "data": {
      "text/plain": [
       "7760"
      ]
     },
     "execution_count": 21,
     "metadata": {},
     "output_type": "execute_result"
    }
   ],
   "source": [
    "# Transform model (quantization)\n",
    "\n",
    "converter = tf.lite.TFLiteConverter.from_keras_model(model)\n",
    "converter.optimizations = [tf.lite.Optimize.DEFAULT]\n",
    "tflite_quantized_model = converter.convert()\n",
    "\n",
    "open(tflite_save_path, 'wb').write(tflite_quantized_model)"
   ]
  },
  {
   "cell_type": "markdown",
   "metadata": {
    "id": "CHBPBXdx9hE6"
   },
   "source": [
    "## Inference test"
   ]
  },
  {
   "cell_type": "code",
   "execution_count": null,
   "metadata": {
    "id": "mGAzLocO9hE7"
   },
   "outputs": [],
   "source": [
    "interpreter = tf.lite.Interpreter(model_path=tflite_save_path)\n",
    "interpreter.allocate_tensors()"
   ]
  },
  {
   "cell_type": "code",
   "execution_count": null,
   "metadata": {
    "id": "oQuDK8YS9hE7"
   },
   "outputs": [],
   "source": [
    "# Get I / O tensor\n",
    "input_details = interpreter.get_input_details()\n",
    "output_details = interpreter.get_output_details()"
   ]
  },
  {
   "cell_type": "code",
   "execution_count": null,
   "metadata": {
    "id": "2_ixAf_l9hE7"
   },
   "outputs": [],
   "source": [
    "interpreter.set_tensor(input_details[0]['index'], np.array([X_test[0]]))"
   ]
  },
  {
   "cell_type": "code",
   "execution_count": null,
   "metadata": {
    "colab": {
     "base_uri": "https://localhost:8080/"
    },
    "id": "s4FoAnuc9hE7",
    "outputId": "330d050b-a3fb-41ce-fa07-dc7a48d715e7",
    "scrolled": true
   },
   "outputs": [
    {
     "name": "stdout",
     "output_type": "stream",
     "text": [
      "CPU times: user 117 µs, sys: 7 µs, total: 124 µs\n",
      "Wall time: 132 µs\n"
     ]
    }
   ],
   "source": [
    "%%time\n",
    "# Inference implementation\n",
    "interpreter.invoke()\n",
    "tflite_results = interpreter.get_tensor(output_details[0]['index'])"
   ]
  },
  {
   "cell_type": "code",
   "execution_count": null,
   "metadata": {
    "colab": {
     "base_uri": "https://localhost:8080/"
    },
    "id": "vONjp19J9hE8",
    "outputId": "9338c9f1-499b-4e10-844d-950075e98a75"
   },
   "outputs": [
    {
     "name": "stdout",
     "output_type": "stream",
     "text": [
      "[1.0000000e+00 1.7798680e-13 5.1755124e-26 1.1783223e-18 1.0188586e-18\n",
      " 1.1212574e-26 2.5901723e-24 2.6419864e-15]\n",
      "0\n"
     ]
    }
   ],
   "source": [
    "print(np.squeeze(tflite_results))\n",
    "print(np.argmax(np.squeeze(tflite_results)))"
   ]
  },
  {
   "cell_type": "markdown",
   "metadata": {
    "id": "2GCHB0ELGs60"
   },
   "source": [
    "## Download model"
   ]
  },
  {
   "cell_type": "code",
   "execution_count": 22,
   "metadata": {
    "colab": {
     "base_uri": "https://localhost:8080/"
    },
    "id": "a2jM8I3jGdF6",
    "outputId": "bd2c08cc-d57c-4589-e4fa-f80389176b96"
   },
   "outputs": [
    {
     "name": "stdout",
     "output_type": "stream",
     "text": [
      "        zip warning: name not matched: keypoint_classifier\n",
      "\n",
      "zip error: Nothing to do! (try: zip -r model.zip . -i keypoint_classifier)\n"
     ]
    }
   ],
   "source": [
    "!zip -r model.zip keypoint_classifier  "
   ]
  },
  {
   "cell_type": "markdown",
   "metadata": {
    "id": "vEqyprC6cMVF"
   },
   "source": [
    "\n",
    "\n",
    "---\n",
    "\n",
    "\n",
    "# ❗️Hyperparameters Tuning"
   ]
  },
  {
   "cell_type": "code",
   "execution_count": null,
   "metadata": {
    "id": "KrjjSqlLcQ4O"
   },
   "outputs": [],
   "source": [
    "%load_ext tensorboard\n",
    "from tensorboard.plugins.hparams import api as hp"
   ]
  },
  {
   "cell_type": "code",
   "execution_count": null,
   "metadata": {
    "id": "YO6VffaRcY3R"
   },
   "outputs": [],
   "source": [
    "# Init parameters to tune\n",
    "HP_NUM_UNITS_1 = hp.HParam('num_units_1', hp.Discrete([16, 32, 64]))\n",
    "HP_NUM_UNITS_2 = hp.HParam('num_units_2', hp.Discrete([8, 16, 32]))\n",
    "HP_NUM_UNITS_3 = hp.HParam('num_units_3', hp.Discrete([8, 16, 32]))\n",
    "HP_DROPOUT = hp.HParam('dropout', hp.RealInterval(0.0, 0.2))\n",
    "HP_OPTIMIZER = hp.HParam('optimizer', hp.Discrete(['adam', 'sgd']))\n",
    "\n",
    "METRIC_ACCURACY = 'accuracy'"
   ]
  },
  {
   "cell_type": "code",
   "execution_count": null,
   "metadata": {
    "id": "eMysvzFxctmG"
   },
   "outputs": [],
   "source": [
    "with tf.summary.create_file_writer('logs/hparam_tuning').as_default():\n",
    "  hp.hparams_config(\n",
    "    hparams=[HP_NUM_UNITS_1,HP_NUM_UNITS_2,HP_NUM_UNITS_3, HP_DROPOUT, HP_OPTIMIZER],\n",
    "    metrics=[hp.Metric(METRIC_ACCURACY, display_name='Accuracy')],\n",
    "  )"
   ]
  },
  {
   "cell_type": "code",
   "execution_count": null,
   "metadata": {
    "id": "XSDYqpKZgOBw"
   },
   "outputs": [],
   "source": [
    "# Model checkpoint callback\n",
    "cp_callback = tf.keras.callbacks.ModelCheckpoint(\n",
    "    model_save_path, verbose=1, save_weights_only=False, save_best_only=True)\n",
    "# Callback for early stopping\n",
    "es_callback = tf.keras.callbacks.EarlyStopping(patience=15, verbose=1)"
   ]
  },
  {
   "cell_type": "code",
   "execution_count": null,
   "metadata": {
    "id": "8ssEmXpJcxSp"
   },
   "outputs": [],
   "source": [
    "def train_test_model(hparams):\n",
    "\n",
    "  model = tf.keras.models.Sequential([\n",
    "    tf.keras.layers.Input((21 * 2, )),\n",
    "    tf.keras.layers.Dropout(hparams[HP_DROPOUT]),\n",
    "    tf.keras.layers.Dense(hparams[HP_NUM_UNITS_1], activation='relu'),\n",
    "    tf.keras.layers.Dropout(hparams[HP_DROPOUT]),\n",
    "    tf.keras.layers.Dense(hparams[HP_NUM_UNITS_2], activation='relu'),\n",
    "    tf.keras.layers.Dropout(hparams[HP_DROPOUT]),\n",
    "    tf.keras.layers.Dense(hparams[HP_NUM_UNITS_3], activation='relu'),\n",
    "    tf.keras.layers.Dense(NUM_CLASSES, activation='softmax')\n",
    "])\n",
    "  \n",
    "  model.compile(\n",
    "    optimizer=hparams[HP_OPTIMIZER],\n",
    "    loss='sparse_categorical_crossentropy',\n",
    "    metrics=['accuracy']\n",
    ")\n",
    "  \n",
    "  cp_callback = tf.keras.callbacks.ModelCheckpoint(\n",
    "    model_save_path, verbose=1, save_weights_only=False, save_best_only=True)\n",
    "\n",
    "  model.fit(\n",
    "    X_train,\n",
    "    y_train,\n",
    "    epochs=50,\n",
    "    batch_size=64,\n",
    "    validation_data=(X_test, y_test),\n",
    "    callbacks=[\n",
    "               cp_callback,\n",
    "               es_callback,\n",
    "               ]\n",
    "  ) \n",
    "\n",
    "  # Load model with best accuracy\n",
    "  model = tf.keras.models.load_model(model_save_path)\n",
    "\n",
    "  _, accuracy = model.evaluate(X_test, y_test)\n",
    "  return accuracy\n",
    "\n",
    "def run(run_dir, hparams):\n",
    "  with tf.summary.create_file_writer(run_dir).as_default():\n",
    "    hp.hparams(hparams)  # record the values used in this trial\n",
    "    accuracy = train_test_model(hparams)\n",
    "    tf.summary.scalar(METRIC_ACCURACY, accuracy, step=1)"
   ]
  },
  {
   "cell_type": "code",
   "execution_count": null,
   "metadata": {
    "id": "5pO9W84DdHVL"
   },
   "outputs": [],
   "source": [
    "session_num = 0\n",
    "\n",
    "for num_units_1 in HP_NUM_UNITS_1.domain.values:\n",
    "  for num_units_2 in HP_NUM_UNITS_2.domain.values:\n",
    "    for num_units_3 in HP_NUM_UNITS_3.domain.values:\n",
    "      for dropout_rate in np.arange(HP_DROPOUT.domain.min_value, HP_DROPOUT.domain.max_value, 0.1):\n",
    "        for optimizer in HP_OPTIMIZER.domain.values:\n",
    "          hparams = {\n",
    "              HP_NUM_UNITS_1: num_units_1,\n",
    "              HP_NUM_UNITS_2: num_units_2,\n",
    "              HP_NUM_UNITS_3: num_units_3,\n",
    "              HP_DROPOUT: dropout_rate,\n",
    "              HP_OPTIMIZER: optimizer,\n",
    "          }\n",
    "          run_name = \"run-%d\" % session_num\n",
    "          print('--- Starting trial: %s' % run_name)\n",
    "          print({h.name: hparams[h] for h in hparams})\n",
    "          run('logs/hparam_tuning/' + run_name, hparams)\n",
    "          session_num += 1"
   ]
  },
  {
   "cell_type": "code",
   "execution_count": null,
   "metadata": {
    "id": "21knbMYldaUn"
   },
   "outputs": [],
   "source": [
    "# !ATTENTION! Works only in Colab\n",
    "%tensorboard --logdir logs/hparam_tuning"
   ]
  },
  {
   "cell_type": "code",
   "execution_count": null,
   "metadata": {
    "id": "J6_UH6jttBsD"
   },
   "outputs": [],
   "source": [
    "!rm -rf logs"
   ]
  }
 ],
 "metadata": {
  "accelerator": "GPU",
  "colab": {
   "collapsed_sections": [],
   "name": "Keypoint_model_training.ipynb",
   "provenance": [],
   "toc_visible": true
  },
  "kernelspec": {
   "display_name": "Python 3",
   "language": "python",
   "name": "python3"
  },
  "language_info": {
   "codemirror_mode": {
    "name": "ipython",
    "version": 3
   },
   "file_extension": ".py",
   "mimetype": "text/x-python",
   "name": "python",
   "nbconvert_exporter": "python",
   "pygments_lexer": "ipython3",
   "version": "3.7.0"
  }
 },
 "nbformat": 4,
 "nbformat_minor": 1
}
